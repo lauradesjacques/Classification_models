{
 "cells": [
  {
   "cell_type": "markdown",
   "id": "73fe9312",
   "metadata": {},
   "source": [
    "<div style=\"display: flex, justify-content: center\"> \n",
    "<h1 style=\"text-align: center; padding: 25px ;border: solid; background-color: blue; font-size: 30px  \"> Models de Classification </h1> \n",
    "</div>"
   ]
  },
  {
   "cell_type": "markdown",
   "id": "943267cd",
   "metadata": {},
   "source": [
    "<div style='text-align: center;padding: 15px; color:blue; font-size:18px'> <b> Etude et comparaison entre 3 modèles de classification </b> <br>\n",
    "<i style='color:blue; font-size:15px'> Régression logistique, arbre de décision,  </i>\n",
    "</div>"
   ]
  },
  {
   "cell_type": "code",
   "execution_count": null,
   "id": "f3dff5aa",
   "metadata": {},
   "outputs": [],
   "source": [
    "# import"
   ]
  }
 ],
 "metadata": {
  "kernelspec": {
   "display_name": "Python 3 (ipykernel)",
   "language": "python",
   "name": "python3"
  },
  "language_info": {
   "codemirror_mode": {
    "name": "ipython",
    "version": 3
   },
   "file_extension": ".py",
   "mimetype": "text/x-python",
   "name": "python",
   "nbconvert_exporter": "python",
   "pygments_lexer": "ipython3",
   "version": "3.8.12"
  },
  "toc": {
   "base_numbering": 1,
   "nav_menu": {},
   "number_sections": true,
   "sideBar": true,
   "skip_h1_title": false,
   "title_cell": "Table of Contents",
   "title_sidebar": "Contents",
   "toc_cell": false,
   "toc_position": {},
   "toc_section_display": true,
   "toc_window_display": false
  }
 },
 "nbformat": 4,
 "nbformat_minor": 5
}
